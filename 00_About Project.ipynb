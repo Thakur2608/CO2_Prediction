{
 "cells": [
  {
   "cell_type": "markdown",
   "id": "d8af9c43",
   "metadata": {},
   "source": [
    "## Predicting CO2 Emissions\n",
    "\n"
   ]
  },
  {
   "cell_type": "markdown",
   "id": "34a629fc",
   "metadata": {},
   "source": [
    "The ability to accurately monitor carbon emissions is a critical step in the fight against climate change. Precise carbon readings allow researchers and governments to understand the sources and patterns of carbon mass output.There are extensive systems in place to monitor carbon emissions on the ground.\n",
    "\n",
    "The objective of this project is:\n",
    "- To understand the relationships between atmospheric parameters and pollution levels, as well as to identify potential spatial and temporal trends in pollution data.\n",
    "- Also to create a machine learning models using open-source CO2 emissions data from Sentinel-5P satellite observations to predict future carbon emissions.\n",
    "\n",
    "These solutions may help enable governments, and other actors to estimate carbon emission levels, even in places where on-the-ground where monitoring is not possible."
   ]
  },
  {
   "cell_type": "markdown",
   "id": "909efda1",
   "metadata": {},
   "source": [
    "---------------\n",
    "\n",
    "This data is from the multiple locations, with a distribution around farm lands, cities and power plants. The data for this project is split by time; the years 2019 - 2021 are included in the training data, and I predicted the CO2 emissions data for 2022 through November.\n",
    "\n"
   ]
  },
  {
   "cell_type": "markdown",
   "id": "5bdd72a1",
   "metadata": {},
   "source": [
    "Seven main features were extracted weekly from Sentinel-5P from January 2019 to November 2022. Each feature (Sulphur Dioxide, Carbon Monoxide, etc) contain sub features such as column_number_density which is the vertical column density at ground level, calculated using the DOAS technique. \n",
    "\n",
    "Features included in the dataset \n",
    "\n",
    "- Sulphur Dioxide\n",
    "- Carbon Monoxide \n",
    "- Nitrogen Dioxide\n",
    "- Formaldehyde \n",
    "- UV Aerosol Index \n",
    "- Ozone\n",
    "- Cloud"
   ]
  },
  {
   "cell_type": "markdown",
   "id": "af166b02",
   "metadata": {},
   "source": [
    "---"
   ]
  },
  {
   "cell_type": "markdown",
   "id": "073dd1cb",
   "metadata": {},
   "source": [
    "Along with model building comprenhsive data analysis was done for feature selections like correlation analysis and studying the effect of time and location on the emissions. As, COVID19 also comes in the timeline of data collected, its effects on the emissions are also evaluated.  "
   ]
  },
  {
   "cell_type": "markdown",
   "id": "91323d2b",
   "metadata": {},
   "source": [
    "Temporal trend shows the weekly trend of all the features and emissions. whereas, Geospatial analysis depits the data collection density in that area."
   ]
  },
  {
   "cell_type": "code",
   "execution_count": null,
   "id": "5935365a",
   "metadata": {},
   "outputs": [],
   "source": []
  }
 ],
 "metadata": {
  "kernelspec": {
   "display_name": "Python 3 (ipykernel)",
   "language": "python",
   "name": "python3"
  },
  "language_info": {
   "codemirror_mode": {
    "name": "ipython",
    "version": 3
   },
   "file_extension": ".py",
   "mimetype": "text/x-python",
   "name": "python",
   "nbconvert_exporter": "python",
   "pygments_lexer": "ipython3",
   "version": "3.10.8"
  }
 },
 "nbformat": 4,
 "nbformat_minor": 5
}
